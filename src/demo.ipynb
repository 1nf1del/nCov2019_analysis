{
 "cells": [
  {
   "cell_type": "markdown",
   "metadata": {},
   "source": [
    "# 新型冠状病毒数据分析演示\n",
    "\n",
    "新型冠状病毒（2019-nCov) 的疫情牵动着全世界人民的心，而理性地对待离不开数据和分析。为了让人民大众及时了解情况，很多网站都公布疫情的实时信息。比方说[丁香园疫情实时动态](https://ncov.dxy.cn/ncovh5/view/pneumonia)， [腾讯疫情实时追踪](https://news.qq.com/zt2020/page/feiyan.htm) 等等。这些网站的内容都是一样的，它们快速地为公众提供了信息，增加了透明度。但是如果读者希望对疫情有进一步的了解，这些网站就不够用了。比方说，如果你想得到过去十天湖北省确诊人数，那就只能从趋势图上作个估计了。再比方说，如果你想对比一下湖南、广东、浙江三省在过去十天的新增确诊人数，那么单凭网页数据也无能为力了。\n",
    "\n",
    "为了取得可以供研究使用的数据，[DXY-2019-nCoV-Data](https://github.com/BlankerL/DXY-2019-nCoV-Data) 项目利用网络爬虫不断从网上抓取数据，更新并存成 CSV 格式。然而，这个 CSV 文件包含的是不同时刻网页上的信息片段，有的时候只有这几个城市，有的时候只有那几个城市，数据并不规整。\n",
    "\n",
    "为了进一步方便用户进行研究，本项目[nCov2019_analysis](https://github.com/jianxu305/nCov2019_analysis) 提供了一些基本工具，把实时数据规整为每日数据，方便用户按时间、省份、城市等方法检索。同时，本项目还提供了基本的时间序列和横向分析作图函数，方便用户取得基本信息。\n",
    "\n",
    "以下是基本使用方法演示："
   ]
  },
  {
   "cell_type": "code",
   "execution_count": 1,
   "metadata": {},
   "outputs": [],
   "source": [
    "import pandas as pd\n",
    "import matplotlib.pyplot as plt\n",
    "import utils   # some convenient functions\n",
    "\n",
    "%load_ext autoreload\n",
    "%autoreload 2"
   ]
  },
  {
   "cell_type": "markdown",
   "metadata": {},
   "source": [
    "## 1. 获取原始 CSV 数据"
   ]
  },
  {
   "cell_type": "code",
   "execution_count": 2,
   "metadata": {},
   "outputs": [
    {
     "name": "stdout",
     "output_type": "stream",
     "text": [
      "最近更新于:  2020-02-07 07:15:28.505000\n",
      "数据日期范围:  2020-01-24 to 2020-02-07\n",
      "数据条目数:  20757\n"
     ]
    }
   ],
   "source": [
    "data = utils.load_chinese_data()"
   ]
  },
  {
   "cell_type": "code",
   "execution_count": 3,
   "metadata": {},
   "outputs": [
    {
     "data": {
      "text/html": [
       "<div>\n",
       "<style scoped>\n",
       "    .dataframe tbody tr th:only-of-type {\n",
       "        vertical-align: middle;\n",
       "    }\n",
       "\n",
       "    .dataframe tbody tr th {\n",
       "        vertical-align: top;\n",
       "    }\n",
       "\n",
       "    .dataframe thead th {\n",
       "        text-align: right;\n",
       "    }\n",
       "</style>\n",
       "<table border=\"1\" class=\"dataframe\">\n",
       "  <thead>\n",
       "    <tr style=\"text-align: right;\">\n",
       "      <th></th>\n",
       "      <th>provinceName</th>\n",
       "      <th>cityName</th>\n",
       "      <th>province_confirmedCount</th>\n",
       "      <th>province_suspectedCount</th>\n",
       "      <th>province_curedCount</th>\n",
       "      <th>province_deadCount</th>\n",
       "      <th>city_confirmedCount</th>\n",
       "      <th>city_suspectedCount</th>\n",
       "      <th>city_curedCount</th>\n",
       "      <th>city_deadCount</th>\n",
       "      <th>updateTime</th>\n",
       "      <th>updateDate</th>\n",
       "    </tr>\n",
       "  </thead>\n",
       "  <tbody>\n",
       "    <tr>\n",
       "      <th>0</th>\n",
       "      <td>湖北省</td>\n",
       "      <td>武汉</td>\n",
       "      <td>22112</td>\n",
       "      <td>0</td>\n",
       "      <td>817</td>\n",
       "      <td>618</td>\n",
       "      <td>11618</td>\n",
       "      <td>0</td>\n",
       "      <td>496</td>\n",
       "      <td>478</td>\n",
       "      <td>2020-02-07 07:15:28.505</td>\n",
       "      <td>2020-02-07</td>\n",
       "    </tr>\n",
       "    <tr>\n",
       "      <th>1</th>\n",
       "      <td>湖北省</td>\n",
       "      <td>孝感</td>\n",
       "      <td>22112</td>\n",
       "      <td>0</td>\n",
       "      <td>817</td>\n",
       "      <td>618</td>\n",
       "      <td>2141</td>\n",
       "      <td>0</td>\n",
       "      <td>9</td>\n",
       "      <td>25</td>\n",
       "      <td>2020-02-07 07:15:28.505</td>\n",
       "      <td>2020-02-07</td>\n",
       "    </tr>\n",
       "    <tr>\n",
       "      <th>2</th>\n",
       "      <td>湖北省</td>\n",
       "      <td>黄冈</td>\n",
       "      <td>22112</td>\n",
       "      <td>0</td>\n",
       "      <td>817</td>\n",
       "      <td>618</td>\n",
       "      <td>1897</td>\n",
       "      <td>0</td>\n",
       "      <td>65</td>\n",
       "      <td>32</td>\n",
       "      <td>2020-02-07 07:15:28.505</td>\n",
       "      <td>2020-02-07</td>\n",
       "    </tr>\n",
       "  </tbody>\n",
       "</table>\n",
       "</div>"
      ],
      "text/plain": [
       "  provinceName cityName  province_confirmedCount  province_suspectedCount  \\\n",
       "0          湖北省       武汉                    22112                        0   \n",
       "1          湖北省       孝感                    22112                        0   \n",
       "2          湖北省       黄冈                    22112                        0   \n",
       "\n",
       "   province_curedCount  province_deadCount  city_confirmedCount  \\\n",
       "0                  817                 618                11618   \n",
       "1                  817                 618                 2141   \n",
       "2                  817                 618                 1897   \n",
       "\n",
       "   city_suspectedCount  city_curedCount  city_deadCount  \\\n",
       "0                    0              496             478   \n",
       "1                    0                9              25   \n",
       "2                    0               65              32   \n",
       "\n",
       "               updateTime  updateDate  \n",
       "0 2020-02-07 07:15:28.505  2020-02-07  \n",
       "1 2020-02-07 07:15:28.505  2020-02-07  \n",
       "2 2020-02-07 07:15:28.505  2020-02-07  "
      ]
     },
     "execution_count": 3,
     "metadata": {},
     "output_type": "execute_result"
    }
   ],
   "source": [
    "data.head(3)  # 查看数据形式"
   ]
  },
  {
   "cell_type": "markdown",
   "metadata": {},
   "source": [
    "## 2. 把实时数据整合成每日数据"
   ]
  },
  {
   "cell_type": "code",
   "execution_count": 4,
   "metadata": {},
   "outputs": [
    {
     "name": "stdout",
     "output_type": "stream",
     "text": [
      "The following dates are removed due to insufficient provinces reported:  [datetime.date(2020, 2, 7)]\n"
     ]
    }
   ],
   "source": [
    "daily_frm = utils.aggDaily(data, clean_data=True)"
   ]
  },
  {
   "cell_type": "code",
   "execution_count": 5,
   "metadata": {},
   "outputs": [
    {
     "data": {
      "text/html": [
       "<div>\n",
       "<style scoped>\n",
       "    .dataframe tbody tr th:only-of-type {\n",
       "        vertical-align: middle;\n",
       "    }\n",
       "\n",
       "    .dataframe tbody tr th {\n",
       "        vertical-align: top;\n",
       "    }\n",
       "\n",
       "    .dataframe thead th {\n",
       "        text-align: right;\n",
       "    }\n",
       "</style>\n",
       "<table border=\"1\" class=\"dataframe\">\n",
       "  <thead>\n",
       "    <tr style=\"text-align: right;\">\n",
       "      <th></th>\n",
       "      <th>provinceName</th>\n",
       "      <th>cityName</th>\n",
       "      <th>confirmed</th>\n",
       "      <th>cured</th>\n",
       "      <th>dead</th>\n",
       "      <th>updateTime</th>\n",
       "      <th>updateDate</th>\n",
       "    </tr>\n",
       "  </thead>\n",
       "  <tbody>\n",
       "    <tr>\n",
       "      <th>973</th>\n",
       "      <td>黑龙江省</td>\n",
       "      <td>鹤岗</td>\n",
       "      <td>2</td>\n",
       "      <td>0</td>\n",
       "      <td>0</td>\n",
       "      <td>2020-02-06 16:09:14.631</td>\n",
       "      <td>2020-02-06</td>\n",
       "    </tr>\n",
       "    <tr>\n",
       "      <th>974</th>\n",
       "      <td>黑龙江省</td>\n",
       "      <td>黑河</td>\n",
       "      <td>1</td>\n",
       "      <td>0</td>\n",
       "      <td>0</td>\n",
       "      <td>2020-02-06 16:09:14.631</td>\n",
       "      <td>2020-02-06</td>\n",
       "    </tr>\n",
       "    <tr>\n",
       "      <th>965</th>\n",
       "      <td>黑龙江省</td>\n",
       "      <td>齐齐哈尔</td>\n",
       "      <td>26</td>\n",
       "      <td>0</td>\n",
       "      <td>0</td>\n",
       "      <td>2020-02-06 16:09:14.631</td>\n",
       "      <td>2020-02-06</td>\n",
       "    </tr>\n",
       "  </tbody>\n",
       "</table>\n",
       "</div>"
      ],
      "text/plain": [
       "    provinceName cityName  confirmed  cured  dead              updateTime  \\\n",
       "973         黑龙江省       鹤岗          2      0     0 2020-02-06 16:09:14.631   \n",
       "974         黑龙江省       黑河          1      0     0 2020-02-06 16:09:14.631   \n",
       "965         黑龙江省     齐齐哈尔         26      0     0 2020-02-06 16:09:14.631   \n",
       "\n",
       "     updateDate  \n",
       "973  2020-02-06  \n",
       "974  2020-02-06  \n",
       "965  2020-02-06  "
      ]
     },
     "execution_count": 5,
     "metadata": {},
     "output_type": "execute_result"
    }
   ],
   "source": [
    "daily_frm.tail(3)"
   ]
  },
  {
   "cell_type": "markdown",
   "metadata": {},
   "source": [
    "## 3. 数据查看"
   ]
  },
  {
   "cell_type": "markdown",
   "metadata": {},
   "source": [
    "### 3.1 提取部分信息"
   ]
  },
  {
   "cell_type": "markdown",
   "metadata": {},
   "source": [
    "#### 用 provinceName 检索省级数据"
   ]
  },
  {
   "cell_type": "code",
   "execution_count": 6,
   "metadata": {},
   "outputs": [
    {
     "data": {
      "text/html": [
       "<div>\n",
       "<style scoped>\n",
       "    .dataframe tbody tr th:only-of-type {\n",
       "        vertical-align: middle;\n",
       "    }\n",
       "\n",
       "    .dataframe tbody tr th {\n",
       "        vertical-align: top;\n",
       "    }\n",
       "\n",
       "    .dataframe thead th {\n",
       "        text-align: right;\n",
       "    }\n",
       "</style>\n",
       "<table border=\"1\" class=\"dataframe\">\n",
       "  <thead>\n",
       "    <tr style=\"text-align: right;\">\n",
       "      <th></th>\n",
       "      <th>provinceName</th>\n",
       "      <th>cityName</th>\n",
       "      <th>confirmed</th>\n",
       "      <th>cured</th>\n",
       "      <th>dead</th>\n",
       "      <th>updateTime</th>\n",
       "      <th>updateDate</th>\n",
       "    </tr>\n",
       "  </thead>\n",
       "  <tbody>\n",
       "    <tr>\n",
       "      <th>19778</th>\n",
       "      <td>广东省</td>\n",
       "      <td>中山</td>\n",
       "      <td>2</td>\n",
       "      <td>0</td>\n",
       "      <td>0</td>\n",
       "      <td>2020-01-24 23:35:03.158</td>\n",
       "      <td>2020-01-24</td>\n",
       "    </tr>\n",
       "    <tr>\n",
       "      <th>19772</th>\n",
       "      <td>广东省</td>\n",
       "      <td>佛山</td>\n",
       "      <td>7</td>\n",
       "      <td>0</td>\n",
       "      <td>0</td>\n",
       "      <td>2020-01-24 23:35:03.158</td>\n",
       "      <td>2020-01-24</td>\n",
       "    </tr>\n",
       "    <tr>\n",
       "      <th>19773</th>\n",
       "      <td>广东省</td>\n",
       "      <td>广州</td>\n",
       "      <td>7</td>\n",
       "      <td>0</td>\n",
       "      <td>0</td>\n",
       "      <td>2020-01-24 23:35:03.158</td>\n",
       "      <td>2020-01-24</td>\n",
       "    </tr>\n",
       "    <tr>\n",
       "      <th>19774</th>\n",
       "      <td>广东省</td>\n",
       "      <td>惠州</td>\n",
       "      <td>5</td>\n",
       "      <td>0</td>\n",
       "      <td>0</td>\n",
       "      <td>2020-01-24 23:35:03.158</td>\n",
       "      <td>2020-01-24</td>\n",
       "    </tr>\n",
       "    <tr>\n",
       "      <th>19770</th>\n",
       "      <td>广东省</td>\n",
       "      <td>深圳</td>\n",
       "      <td>15</td>\n",
       "      <td>2</td>\n",
       "      <td>0</td>\n",
       "      <td>2020-01-24 23:35:03.158</td>\n",
       "      <td>2020-01-24</td>\n",
       "    </tr>\n",
       "    <tr>\n",
       "      <th>...</th>\n",
       "      <td>...</td>\n",
       "      <td>...</td>\n",
       "      <td>...</td>\n",
       "      <td>...</td>\n",
       "      <td>...</td>\n",
       "      <td>...</td>\n",
       "      <td>...</td>\n",
       "    </tr>\n",
       "    <tr>\n",
       "      <th>243</th>\n",
       "      <td>广东省</td>\n",
       "      <td>珠海</td>\n",
       "      <td>73</td>\n",
       "      <td>4</td>\n",
       "      <td>0</td>\n",
       "      <td>2020-02-06 20:40:40.766</td>\n",
       "      <td>2020-02-06</td>\n",
       "    </tr>\n",
       "    <tr>\n",
       "      <th>250</th>\n",
       "      <td>广东省</td>\n",
       "      <td>肇庆</td>\n",
       "      <td>14</td>\n",
       "      <td>1</td>\n",
       "      <td>0</td>\n",
       "      <td>2020-02-06 20:40:40.766</td>\n",
       "      <td>2020-02-06</td>\n",
       "    </tr>\n",
       "    <tr>\n",
       "      <th>257</th>\n",
       "      <td>广东省</td>\n",
       "      <td>茂名</td>\n",
       "      <td>6</td>\n",
       "      <td>0</td>\n",
       "      <td>0</td>\n",
       "      <td>2020-02-06 20:40:40.766</td>\n",
       "      <td>2020-02-06</td>\n",
       "    </tr>\n",
       "    <tr>\n",
       "      <th>251</th>\n",
       "      <td>广东省</td>\n",
       "      <td>阳江</td>\n",
       "      <td>13</td>\n",
       "      <td>0</td>\n",
       "      <td>0</td>\n",
       "      <td>2020-02-06 20:40:40.766</td>\n",
       "      <td>2020-02-06</td>\n",
       "    </tr>\n",
       "    <tr>\n",
       "      <th>256</th>\n",
       "      <td>广东省</td>\n",
       "      <td>韶关</td>\n",
       "      <td>6</td>\n",
       "      <td>1</td>\n",
       "      <td>0</td>\n",
       "      <td>2020-02-06 20:40:40.766</td>\n",
       "      <td>2020-02-06</td>\n",
       "    </tr>\n",
       "  </tbody>\n",
       "</table>\n",
       "<p>253 rows × 7 columns</p>\n",
       "</div>"
      ],
      "text/plain": [
       "      provinceName cityName  confirmed  cured  dead              updateTime  \\\n",
       "19778          广东省       中山          2      0     0 2020-01-24 23:35:03.158   \n",
       "19772          广东省       佛山          7      0     0 2020-01-24 23:35:03.158   \n",
       "19773          广东省       广州          7      0     0 2020-01-24 23:35:03.158   \n",
       "19774          广东省       惠州          5      0     0 2020-01-24 23:35:03.158   \n",
       "19770          广东省       深圳         15      2     0 2020-01-24 23:35:03.158   \n",
       "...            ...      ...        ...    ...   ...                     ...   \n",
       "243            广东省       珠海         73      4     0 2020-02-06 20:40:40.766   \n",
       "250            广东省       肇庆         14      1     0 2020-02-06 20:40:40.766   \n",
       "257            广东省       茂名          6      0     0 2020-02-06 20:40:40.766   \n",
       "251            广东省       阳江         13      0     0 2020-02-06 20:40:40.766   \n",
       "256            广东省       韶关          6      1     0 2020-02-06 20:40:40.766   \n",
       "\n",
       "       updateDate  \n",
       "19778  2020-01-24  \n",
       "19772  2020-01-24  \n",
       "19773  2020-01-24  \n",
       "19774  2020-01-24  \n",
       "19770  2020-01-24  \n",
       "...           ...  \n",
       "243    2020-02-06  \n",
       "250    2020-02-06  \n",
       "257    2020-02-06  \n",
       "251    2020-02-06  \n",
       "256    2020-02-06  \n",
       "\n",
       "[253 rows x 7 columns]"
      ]
     },
     "execution_count": 6,
     "metadata": {},
     "output_type": "execute_result"
    }
   ],
   "source": [
    "daily_frm[daily_frm['provinceName'] == '广东省']"
   ]
  },
  {
   "cell_type": "markdown",
   "metadata": {},
   "source": [
    "#### 用 cityName 检索市级数据"
   ]
  },
  {
   "cell_type": "code",
   "execution_count": 7,
   "metadata": {},
   "outputs": [
    {
     "data": {
      "text/html": [
       "<div>\n",
       "<style scoped>\n",
       "    .dataframe tbody tr th:only-of-type {\n",
       "        vertical-align: middle;\n",
       "    }\n",
       "\n",
       "    .dataframe tbody tr th {\n",
       "        vertical-align: top;\n",
       "    }\n",
       "\n",
       "    .dataframe thead th {\n",
       "        text-align: right;\n",
       "    }\n",
       "</style>\n",
       "<table border=\"1\" class=\"dataframe\">\n",
       "  <thead>\n",
       "    <tr style=\"text-align: right;\">\n",
       "      <th></th>\n",
       "      <th>provinceName</th>\n",
       "      <th>cityName</th>\n",
       "      <th>confirmed</th>\n",
       "      <th>cured</th>\n",
       "      <th>dead</th>\n",
       "      <th>updateTime</th>\n",
       "      <th>updateDate</th>\n",
       "    </tr>\n",
       "  </thead>\n",
       "  <tbody>\n",
       "    <tr>\n",
       "      <th>19969</th>\n",
       "      <td>湖北省</td>\n",
       "      <td>武汉</td>\n",
       "      <td>495</td>\n",
       "      <td>31</td>\n",
       "      <td>23</td>\n",
       "      <td>2020-01-24 17:30:09.978</td>\n",
       "      <td>2020-01-24</td>\n",
       "    </tr>\n",
       "    <tr>\n",
       "      <th>18794</th>\n",
       "      <td>湖北省</td>\n",
       "      <td>武汉</td>\n",
       "      <td>572</td>\n",
       "      <td>32</td>\n",
       "      <td>38</td>\n",
       "      <td>2020-01-25 23:55:35.775</td>\n",
       "      <td>2020-01-25</td>\n",
       "    </tr>\n",
       "    <tr>\n",
       "      <th>18145</th>\n",
       "      <td>湖北省</td>\n",
       "      <td>武汉</td>\n",
       "      <td>618</td>\n",
       "      <td>40</td>\n",
       "      <td>45</td>\n",
       "      <td>2020-01-26 13:50:35.848</td>\n",
       "      <td>2020-01-26</td>\n",
       "    </tr>\n",
       "    <tr>\n",
       "      <th>16966</th>\n",
       "      <td>湖北省</td>\n",
       "      <td>武汉</td>\n",
       "      <td>698</td>\n",
       "      <td>42</td>\n",
       "      <td>63</td>\n",
       "      <td>2020-01-27 16:42:57.343</td>\n",
       "      <td>2020-01-27</td>\n",
       "    </tr>\n",
       "    <tr>\n",
       "      <th>16162</th>\n",
       "      <td>湖北省</td>\n",
       "      <td>武汉</td>\n",
       "      <td>1590</td>\n",
       "      <td>47</td>\n",
       "      <td>85</td>\n",
       "      <td>2020-01-28 16:36:17.441</td>\n",
       "      <td>2020-01-28</td>\n",
       "    </tr>\n",
       "    <tr>\n",
       "      <th>14968</th>\n",
       "      <td>湖北省</td>\n",
       "      <td>武汉</td>\n",
       "      <td>1905</td>\n",
       "      <td>54</td>\n",
       "      <td>104</td>\n",
       "      <td>2020-01-29 20:34:44.154</td>\n",
       "      <td>2020-01-29</td>\n",
       "    </tr>\n",
       "    <tr>\n",
       "      <th>13789</th>\n",
       "      <td>湖北省</td>\n",
       "      <td>武汉</td>\n",
       "      <td>2261</td>\n",
       "      <td>54</td>\n",
       "      <td>129</td>\n",
       "      <td>2020-01-30 22:24:37.371</td>\n",
       "      <td>2020-01-30</td>\n",
       "    </tr>\n",
       "    <tr>\n",
       "      <th>12149</th>\n",
       "      <td>湖北省</td>\n",
       "      <td>武汉</td>\n",
       "      <td>2639</td>\n",
       "      <td>103</td>\n",
       "      <td>159</td>\n",
       "      <td>2020-01-31 22:06:41.473</td>\n",
       "      <td>2020-01-31</td>\n",
       "    </tr>\n",
       "    <tr>\n",
       "      <th>9858</th>\n",
       "      <td>湖北省</td>\n",
       "      <td>武汉</td>\n",
       "      <td>3215</td>\n",
       "      <td>106</td>\n",
       "      <td>192</td>\n",
       "      <td>2020-02-01 19:49:55.626</td>\n",
       "      <td>2020-02-01</td>\n",
       "    </tr>\n",
       "    <tr>\n",
       "      <th>7985</th>\n",
       "      <td>湖北省</td>\n",
       "      <td>武汉</td>\n",
       "      <td>4109</td>\n",
       "      <td>175</td>\n",
       "      <td>224</td>\n",
       "      <td>2020-02-02 20:50:05.247</td>\n",
       "      <td>2020-02-02</td>\n",
       "    </tr>\n",
       "    <tr>\n",
       "      <th>6319</th>\n",
       "      <td>湖北省</td>\n",
       "      <td>武汉</td>\n",
       "      <td>5142</td>\n",
       "      <td>228</td>\n",
       "      <td>265</td>\n",
       "      <td>2020-02-03 21:32:30.697</td>\n",
       "      <td>2020-02-03</td>\n",
       "    </tr>\n",
       "    <tr>\n",
       "      <th>5077</th>\n",
       "      <td>湖北省</td>\n",
       "      <td>武汉</td>\n",
       "      <td>6384</td>\n",
       "      <td>306</td>\n",
       "      <td>313</td>\n",
       "      <td>2020-02-04 17:34:45.960</td>\n",
       "      <td>2020-02-04</td>\n",
       "    </tr>\n",
       "    <tr>\n",
       "      <th>2251</th>\n",
       "      <td>湖北省</td>\n",
       "      <td>武汉</td>\n",
       "      <td>8351</td>\n",
       "      <td>374</td>\n",
       "      <td>362</td>\n",
       "      <td>2020-02-05 23:52:29.021</td>\n",
       "      <td>2020-02-05</td>\n",
       "    </tr>\n",
       "    <tr>\n",
       "      <th>261</th>\n",
       "      <td>湖北省</td>\n",
       "      <td>武汉</td>\n",
       "      <td>10117</td>\n",
       "      <td>455</td>\n",
       "      <td>414</td>\n",
       "      <td>2020-02-06 20:28:31.381</td>\n",
       "      <td>2020-02-06</td>\n",
       "    </tr>\n",
       "  </tbody>\n",
       "</table>\n",
       "</div>"
      ],
      "text/plain": [
       "      provinceName cityName  confirmed  cured  dead              updateTime  \\\n",
       "19969          湖北省       武汉        495     31    23 2020-01-24 17:30:09.978   \n",
       "18794          湖北省       武汉        572     32    38 2020-01-25 23:55:35.775   \n",
       "18145          湖北省       武汉        618     40    45 2020-01-26 13:50:35.848   \n",
       "16966          湖北省       武汉        698     42    63 2020-01-27 16:42:57.343   \n",
       "16162          湖北省       武汉       1590     47    85 2020-01-28 16:36:17.441   \n",
       "14968          湖北省       武汉       1905     54   104 2020-01-29 20:34:44.154   \n",
       "13789          湖北省       武汉       2261     54   129 2020-01-30 22:24:37.371   \n",
       "12149          湖北省       武汉       2639    103   159 2020-01-31 22:06:41.473   \n",
       "9858           湖北省       武汉       3215    106   192 2020-02-01 19:49:55.626   \n",
       "7985           湖北省       武汉       4109    175   224 2020-02-02 20:50:05.247   \n",
       "6319           湖北省       武汉       5142    228   265 2020-02-03 21:32:30.697   \n",
       "5077           湖北省       武汉       6384    306   313 2020-02-04 17:34:45.960   \n",
       "2251           湖北省       武汉       8351    374   362 2020-02-05 23:52:29.021   \n",
       "261            湖北省       武汉      10117    455   414 2020-02-06 20:28:31.381   \n",
       "\n",
       "       updateDate  \n",
       "19969  2020-01-24  \n",
       "18794  2020-01-25  \n",
       "18145  2020-01-26  \n",
       "16966  2020-01-27  \n",
       "16162  2020-01-28  \n",
       "14968  2020-01-29  \n",
       "13789  2020-01-30  \n",
       "12149  2020-01-31  \n",
       "9858   2020-02-01  \n",
       "7985   2020-02-02  \n",
       "6319   2020-02-03  \n",
       "5077   2020-02-04  \n",
       "2251   2020-02-05  \n",
       "261    2020-02-06  "
      ]
     },
     "execution_count": 7,
     "metadata": {},
     "output_type": "execute_result"
    }
   ],
   "source": [
    "daily_frm[daily_frm['cityName'] == '武汉']"
   ]
  },
  {
   "cell_type": "markdown",
   "metadata": {},
   "source": [
    "#### 用 updateDate 检索单日数据"
   ]
  },
  {
   "cell_type": "code",
   "execution_count": 8,
   "metadata": {},
   "outputs": [
    {
     "data": {
      "text/html": [
       "<div>\n",
       "<style scoped>\n",
       "    .dataframe tbody tr th:only-of-type {\n",
       "        vertical-align: middle;\n",
       "    }\n",
       "\n",
       "    .dataframe tbody tr th {\n",
       "        vertical-align: top;\n",
       "    }\n",
       "\n",
       "    .dataframe thead th {\n",
       "        text-align: right;\n",
       "    }\n",
       "</style>\n",
       "<table border=\"1\" class=\"dataframe\">\n",
       "  <thead>\n",
       "    <tr style=\"text-align: right;\">\n",
       "      <th></th>\n",
       "      <th>provinceName</th>\n",
       "      <th>cityName</th>\n",
       "      <th>confirmed</th>\n",
       "      <th>cured</th>\n",
       "      <th>dead</th>\n",
       "      <th>updateTime</th>\n",
       "      <th>updateDate</th>\n",
       "    </tr>\n",
       "  </thead>\n",
       "  <tbody>\n",
       "    <tr>\n",
       "      <th>17003</th>\n",
       "      <td>上海市</td>\n",
       "      <td>嘉定区</td>\n",
       "      <td>1</td>\n",
       "      <td>0</td>\n",
       "      <td>0</td>\n",
       "      <td>2020-01-27 15:56:40.534</td>\n",
       "      <td>2020-01-27</td>\n",
       "    </tr>\n",
       "    <tr>\n",
       "      <th>16993</th>\n",
       "      <td>上海市</td>\n",
       "      <td>外地来沪人员</td>\n",
       "      <td>23</td>\n",
       "      <td>3</td>\n",
       "      <td>0</td>\n",
       "      <td>2020-01-27 15:56:40.534</td>\n",
       "      <td>2020-01-27</td>\n",
       "    </tr>\n",
       "    <tr>\n",
       "      <th>17004</th>\n",
       "      <td>上海市</td>\n",
       "      <td>奉贤区</td>\n",
       "      <td>1</td>\n",
       "      <td>0</td>\n",
       "      <td>0</td>\n",
       "      <td>2020-01-27 15:56:40.534</td>\n",
       "      <td>2020-01-27</td>\n",
       "    </tr>\n",
       "    <tr>\n",
       "      <th>17002</th>\n",
       "      <td>上海市</td>\n",
       "      <td>宝山区</td>\n",
       "      <td>1</td>\n",
       "      <td>0</td>\n",
       "      <td>0</td>\n",
       "      <td>2020-01-27 15:56:40.534</td>\n",
       "      <td>2020-01-27</td>\n",
       "    </tr>\n",
       "    <tr>\n",
       "      <th>16997</th>\n",
       "      <td>上海市</td>\n",
       "      <td>徐汇区</td>\n",
       "      <td>3</td>\n",
       "      <td>0</td>\n",
       "      <td>0</td>\n",
       "      <td>2020-01-27 15:56:40.534</td>\n",
       "      <td>2020-01-27</td>\n",
       "    </tr>\n",
       "    <tr>\n",
       "      <th>...</th>\n",
       "      <td>...</td>\n",
       "      <td>...</td>\n",
       "      <td>...</td>\n",
       "      <td>...</td>\n",
       "      <td>...</td>\n",
       "      <td>...</td>\n",
       "      <td>...</td>\n",
       "    </tr>\n",
       "    <tr>\n",
       "      <th>17496</th>\n",
       "      <td>黑龙江省</td>\n",
       "      <td>哈尔滨</td>\n",
       "      <td>8</td>\n",
       "      <td>0</td>\n",
       "      <td>0</td>\n",
       "      <td>2020-01-27 09:10:03.105</td>\n",
       "      <td>2020-01-27</td>\n",
       "    </tr>\n",
       "    <tr>\n",
       "      <th>17497</th>\n",
       "      <td>黑龙江省</td>\n",
       "      <td>大庆</td>\n",
       "      <td>5</td>\n",
       "      <td>0</td>\n",
       "      <td>0</td>\n",
       "      <td>2020-01-27 09:10:03.105</td>\n",
       "      <td>2020-01-27</td>\n",
       "    </tr>\n",
       "    <tr>\n",
       "      <th>17499</th>\n",
       "      <td>黑龙江省</td>\n",
       "      <td>牡丹江</td>\n",
       "      <td>1</td>\n",
       "      <td>0</td>\n",
       "      <td>0</td>\n",
       "      <td>2020-01-27 09:10:03.105</td>\n",
       "      <td>2020-01-27</td>\n",
       "    </tr>\n",
       "    <tr>\n",
       "      <th>17498</th>\n",
       "      <td>黑龙江省</td>\n",
       "      <td>绥化</td>\n",
       "      <td>3</td>\n",
       "      <td>0</td>\n",
       "      <td>1</td>\n",
       "      <td>2020-01-27 09:10:03.105</td>\n",
       "      <td>2020-01-27</td>\n",
       "    </tr>\n",
       "    <tr>\n",
       "      <th>17500</th>\n",
       "      <td>黑龙江省</td>\n",
       "      <td>齐齐哈尔</td>\n",
       "      <td>1</td>\n",
       "      <td>0</td>\n",
       "      <td>0</td>\n",
       "      <td>2020-01-27 09:10:03.105</td>\n",
       "      <td>2020-01-27</td>\n",
       "    </tr>\n",
       "  </tbody>\n",
       "</table>\n",
       "<p>317 rows × 7 columns</p>\n",
       "</div>"
      ],
      "text/plain": [
       "      provinceName cityName  confirmed  cured  dead              updateTime  \\\n",
       "17003          上海市      嘉定区          1      0     0 2020-01-27 15:56:40.534   \n",
       "16993          上海市   外地来沪人员         23      3     0 2020-01-27 15:56:40.534   \n",
       "17004          上海市      奉贤区          1      0     0 2020-01-27 15:56:40.534   \n",
       "17002          上海市      宝山区          1      0     0 2020-01-27 15:56:40.534   \n",
       "16997          上海市      徐汇区          3      0     0 2020-01-27 15:56:40.534   \n",
       "...            ...      ...        ...    ...   ...                     ...   \n",
       "17496         黑龙江省      哈尔滨          8      0     0 2020-01-27 09:10:03.105   \n",
       "17497         黑龙江省       大庆          5      0     0 2020-01-27 09:10:03.105   \n",
       "17499         黑龙江省      牡丹江          1      0     0 2020-01-27 09:10:03.105   \n",
       "17498         黑龙江省       绥化          3      0     1 2020-01-27 09:10:03.105   \n",
       "17500         黑龙江省     齐齐哈尔          1      0     0 2020-01-27 09:10:03.105   \n",
       "\n",
       "       updateDate  \n",
       "17003  2020-01-27  \n",
       "16993  2020-01-27  \n",
       "17004  2020-01-27  \n",
       "17002  2020-01-27  \n",
       "16997  2020-01-27  \n",
       "...           ...  \n",
       "17496  2020-01-27  \n",
       "17497  2020-01-27  \n",
       "17499  2020-01-27  \n",
       "17498  2020-01-27  \n",
       "17500  2020-01-27  \n",
       "\n",
       "[317 rows x 7 columns]"
      ]
     },
     "execution_count": 8,
     "metadata": {},
     "output_type": "execute_result"
    }
   ],
   "source": [
    "daily_frm[daily_frm['updateDate'] == pd.to_datetime('2020-01-27')]"
   ]
  },
  {
   "cell_type": "markdown",
   "metadata": {},
   "source": [
    "用 utils.add_dailyNew() 加入每日新增确诊、死亡、治愈人数"
   ]
  },
  {
   "cell_type": "code",
   "execution_count": 9,
   "metadata": {},
   "outputs": [],
   "source": [
    "daily_frm = utils.add_dailyNew(daily_frm)"
   ]
  },
  {
   "cell_type": "code",
   "execution_count": 10,
   "metadata": {},
   "outputs": [
    {
     "data": {
      "text/html": [
       "<div>\n",
       "<style scoped>\n",
       "    .dataframe tbody tr th:only-of-type {\n",
       "        vertical-align: middle;\n",
       "    }\n",
       "\n",
       "    .dataframe tbody tr th {\n",
       "        vertical-align: top;\n",
       "    }\n",
       "\n",
       "    .dataframe thead th {\n",
       "        text-align: right;\n",
       "    }\n",
       "</style>\n",
       "<table border=\"1\" class=\"dataframe\">\n",
       "  <thead>\n",
       "    <tr style=\"text-align: right;\">\n",
       "      <th></th>\n",
       "      <th>provinceName</th>\n",
       "      <th>cityName</th>\n",
       "      <th>confirmed</th>\n",
       "      <th>cured</th>\n",
       "      <th>dead</th>\n",
       "      <th>updateTime</th>\n",
       "      <th>updateDate</th>\n",
       "      <th>dailyNew_confirmed</th>\n",
       "      <th>dailyNew_dead</th>\n",
       "      <th>dailyNew_cured</th>\n",
       "    </tr>\n",
       "  </thead>\n",
       "  <tbody>\n",
       "    <tr>\n",
       "      <th>19969</th>\n",
       "      <td>湖北省</td>\n",
       "      <td>武汉</td>\n",
       "      <td>495</td>\n",
       "      <td>31</td>\n",
       "      <td>23</td>\n",
       "      <td>2020-01-24 17:30:09.978</td>\n",
       "      <td>2020-01-24</td>\n",
       "      <td>NaN</td>\n",
       "      <td>NaN</td>\n",
       "      <td>NaN</td>\n",
       "    </tr>\n",
       "    <tr>\n",
       "      <th>18794</th>\n",
       "      <td>湖北省</td>\n",
       "      <td>武汉</td>\n",
       "      <td>572</td>\n",
       "      <td>32</td>\n",
       "      <td>38</td>\n",
       "      <td>2020-01-25 23:55:35.775</td>\n",
       "      <td>2020-01-25</td>\n",
       "      <td>77.0</td>\n",
       "      <td>15.0</td>\n",
       "      <td>1.0</td>\n",
       "    </tr>\n",
       "    <tr>\n",
       "      <th>18145</th>\n",
       "      <td>湖北省</td>\n",
       "      <td>武汉</td>\n",
       "      <td>618</td>\n",
       "      <td>40</td>\n",
       "      <td>45</td>\n",
       "      <td>2020-01-26 13:50:35.848</td>\n",
       "      <td>2020-01-26</td>\n",
       "      <td>46.0</td>\n",
       "      <td>7.0</td>\n",
       "      <td>8.0</td>\n",
       "    </tr>\n",
       "    <tr>\n",
       "      <th>16966</th>\n",
       "      <td>湖北省</td>\n",
       "      <td>武汉</td>\n",
       "      <td>698</td>\n",
       "      <td>42</td>\n",
       "      <td>63</td>\n",
       "      <td>2020-01-27 16:42:57.343</td>\n",
       "      <td>2020-01-27</td>\n",
       "      <td>80.0</td>\n",
       "      <td>18.0</td>\n",
       "      <td>2.0</td>\n",
       "    </tr>\n",
       "    <tr>\n",
       "      <th>16162</th>\n",
       "      <td>湖北省</td>\n",
       "      <td>武汉</td>\n",
       "      <td>1590</td>\n",
       "      <td>47</td>\n",
       "      <td>85</td>\n",
       "      <td>2020-01-28 16:36:17.441</td>\n",
       "      <td>2020-01-28</td>\n",
       "      <td>892.0</td>\n",
       "      <td>22.0</td>\n",
       "      <td>5.0</td>\n",
       "    </tr>\n",
       "  </tbody>\n",
       "</table>\n",
       "</div>"
      ],
      "text/plain": [
       "      provinceName cityName  confirmed  cured  dead              updateTime  \\\n",
       "19969          湖北省       武汉        495     31    23 2020-01-24 17:30:09.978   \n",
       "18794          湖北省       武汉        572     32    38 2020-01-25 23:55:35.775   \n",
       "18145          湖北省       武汉        618     40    45 2020-01-26 13:50:35.848   \n",
       "16966          湖北省       武汉        698     42    63 2020-01-27 16:42:57.343   \n",
       "16162          湖北省       武汉       1590     47    85 2020-01-28 16:36:17.441   \n",
       "\n",
       "       updateDate  dailyNew_confirmed  dailyNew_dead  dailyNew_cured  \n",
       "19969  2020-01-24                 NaN            NaN             NaN  \n",
       "18794  2020-01-25                77.0           15.0             1.0  \n",
       "18145  2020-01-26                46.0            7.0             8.0  \n",
       "16966  2020-01-27                80.0           18.0             2.0  \n",
       "16162  2020-01-28               892.0           22.0             5.0  "
      ]
     },
     "execution_count": 10,
     "metadata": {},
     "output_type": "execute_result"
    }
   ],
   "source": [
    "daily_frm[daily_frm['cityName'] == '武汉'].head()"
   ]
  },
  {
   "cell_type": "markdown",
   "metadata": {},
   "source": [
    "### 3.2 时序比较图 utils.tsplot_conf_dead_cured()"
   ]
  },
  {
   "cell_type": "markdown",
   "metadata": {},
   "source": [
    "#### 全国确诊、死亡、治愈时间序列图"
   ]
  },
  {
   "cell_type": "code",
   "execution_count": 11,
   "metadata": {},
   "outputs": [
    {
     "data": {
      "image/png": "[encoded data removed]",
      "text/plain": [
       "<Figure size 936x432 with 2 Axes>"
      ]
     },
     "metadata": {
      "needs_background": "light"
     },
     "output_type": "display_data"
    }
   ],
   "source": [
    "fig = utils.tsplot_conf_dead_cured(daily_frm, title_prefix='全国')\n",
    "plt.show()"
   ]
  },
  {
   "cell_type": "markdown",
   "metadata": {},
   "source": [
    "#### 单个省份的时间序列也很容易，只要把想要的省份数据检索出来作为输入就可以了"
   ]
  },
  {
   "cell_type": "code",
   "execution_count": 12,
   "metadata": {},
   "outputs": [
    {
     "data": {
      "image/png": "[encoded data removed]",
      "text/plain": [
       "<Figure size 936x432 with 2 Axes>"
      ]
     },
     "metadata": {
      "needs_background": "light"
     },
     "output_type": "display_data"
    }
   ],
   "source": [
    "province = '湖北省'   # 输入你所要的省份\n",
    "fig = utils.tsplot_conf_dead_cured(daily_frm[daily_frm['provinceName'] == province], title_prefix=province)\n",
    "plt.show()                                  "
   ]
  },
  {
   "cell_type": "markdown",
   "metadata": {},
   "source": [
    "#### 单个城市用法也是一样的, 还可以使用 logy=True 画指数图，看人数是否指数增长"
   ]
  },
  {
   "cell_type": "code",
   "execution_count": 13,
   "metadata": {},
   "outputs": [
    {
     "data": {
      "image/png": "[encoded data removed]",
      "text/plain": [
       "<Figure size 936x432 with 2 Axes>"
      ]
     },
     "metadata": {
      "needs_background": "light"
     },
     "output_type": "display_data"
    }
   ],
   "source": [
    "city = '武汉'\n",
    "fig = utils.tsplot_conf_dead_cured(daily_frm[daily_frm['cityName'] == city], title_prefix=city, logy=True)\n",
    "plt.show()  "
   ]
  },
  {
   "cell_type": "markdown",
   "metadata": {},
   "source": [
    "### 3.3 横向比较图 utils.crossectional_bar()"
   ]
  },
  {
   "cell_type": "markdown",
   "metadata": {},
   "source": [
    "#### 各省份在2月三号确诊数比较"
   ]
  },
  {
   "cell_type": "code",
   "execution_count": 14,
   "metadata": {},
   "outputs": [
    {
     "data": {
      "text/plain": [
       "<matplotlib.axes._subplots.AxesSubplot at 0x1ad1aed1630>"
      ]
     },
     "execution_count": 14,
     "metadata": {},
     "output_type": "execute_result"
    },
    {
     "data": {
      "image/png": "[encoded data removed]",
      "text/plain": [
       "<Figure size 936x720 with 1 Axes>"
      ]
     },
     "metadata": {
      "needs_background": "light"
     },
     "output_type": "display_data"
    }
   ],
   "source": [
    "utils.crossectional_bar(daily_frm, '2020-02-03', col='confirmed', groupby='provinceName', title='各省确累计诊数比较')"
   ]
  },
  {
   "cell_type": "markdown",
   "metadata": {},
   "source": [
    "#### 湖北省各地2月1号死亡数比较"
   ]
  },
  {
   "cell_type": "code",
   "execution_count": 15,
   "metadata": {},
   "outputs": [
    {
     "data": {
      "text/plain": [
       "<matplotlib.axes._subplots.AxesSubplot at 0x1ad1aee0080>"
      ]
     },
     "execution_count": 15,
     "metadata": {},
     "output_type": "execute_result"
    },
    {
     "data": {
      "image/png": "[encoded data removed]",
      "text/plain": [
       "<Figure size 936x720 with 1 Axes>"
      ]
     },
     "metadata": {
      "needs_background": "light"
     },
     "output_type": "display_data"
    }
   ],
   "source": [
    "utils.crossectional_bar(daily_frm[daily_frm['provinceName'] == '湖北省'], '2020-02-01', col='dead', \n",
    "                        groupby='cityName', title='湖北各地累计死亡人数比较')"
   ]
  }
 ],
 "metadata": {
  "kernelspec": {
   "display_name": "Python 3",
   "language": "python",
   "name": "python3"
  },
  "language_info": {
   "codemirror_mode": {
    "name": "ipython",
    "version": 3
   },
   "file_extension": ".py",
   "mimetype": "text/x-python",
   "name": "python",
   "nbconvert_exporter": "python",
   "pygments_lexer": "ipython3",
   "version": "3.6.7"
  }
 },
 "nbformat": 4,
 "nbformat_minor": 4
}
